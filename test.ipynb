{
 "cells": [
  {
   "cell_type": "code",
   "execution_count": null,
   "metadata": {},
   "outputs": [],
   "source": [
    "from models import *\n",
    "data_file = 'data/housing.csv'\n",
    "data = pd.read_csv(data_file)\n",
    "data.dropna(inplace=True)\n",
    "data = data.sample(frac=1)\n",
    "test_data = data.iloc[-1000:]\n",
    "test_data.reset_index(inplace=True, drop=True)\n",
    "data = data.iloc[:-1000]\n",
    "\n",
    "num_samples = 10\n",
    "train_size_list = [4, 8, 16, 32, 64, 128]\n",
    "max_depth = 3\n",
    "\n",
    "\n",
    "lm_results = {}\n",
    "dtree_results = {}\n",
    "for train_size in train_size_list:\n",
    "    lm_results[train_size] = []\n",
    "    dtree_results[train_size] = []\n",
    "    for _ in range(num_samples):\n",
    "        train_data = data.sample(train_size)\n",
    "        lm_acc_list = []\n",
    "        dtree_acc_list = []\n",
    "        # run with lm=True\n",
    "        lm_model = DecisionTree(train_data, max_depth=max_depth, lm=True)\n",
    "        for i in range(len(test_data)):\n",
    "            test_point = test_data.iloc[i]\n",
    "            prediction = lm_model.predict(test_point)\n",
    "            correct = int(prediction == test_point['label'])\n",
    "            lm_acc_list.append(correct)\n",
    "        lm_results[train_size].append(np.mean(lm_acc_list))\n",
    "\n",
    "        # run with lm=False\n",
    "        dtree_model = DecisionTree(train_data, max_depth=max_depth, lm=False)\n",
    "        for i in range(len(test_data)):\n",
    "            test_point = test_data.iloc[i]\n",
    "            prediction = dtree_model.predict(test_point)\n",
    "            correct = int(prediction == test_point['label'])\n",
    "            dtree_acc_list.append(correct)\n",
    "        dtree_results[train_size].append(np.mean(dtree_acc_list))"
   ]
  }
 ],
 "metadata": {
  "kernelspec": {
   "display_name": "Python 3",
   "language": "python",
   "name": "python3"
  },
  "language_info": {
   "name": "python",
   "version": "3.11.1 (v3.11.1:a7a450f84a, Dec  6 2022, 15:24:06) [Clang 13.0.0 (clang-1300.0.29.30)]"
  },
  "orig_nbformat": 4,
  "vscode": {
   "interpreter": {
    "hash": "aee8b7b246df8f9039afb4144a1f6fd8d2ca17a180786b69acc140d282b71a49"
   }
  }
 },
 "nbformat": 4,
 "nbformat_minor": 2
}
